{
 "cells": [
  {
   "cell_type": "code",
   "execution_count": 1,
   "metadata": {
    "collapsed": true
   },
   "outputs": [],
   "source": [
    "import matplotlib.pyplot as plt\n",
    "%matplotlib inline\n",
    "import numpy as np\n",
    "import pandas as pd\n",
    "import seaborn as sns\n",
    "\n",
    "colors = [\"#008800\", \"#000088\"]"
   ]
  },
  {
   "cell_type": "code",
   "execution_count": 2,
   "metadata": {
    "collapsed": true
   },
   "outputs": [],
   "source": [
    "data_path = \"./data/\"\n",
    "data_files = {\n",
    "  \"Family\":              \"familyxx.csv\",\n",
    "  \"Household\":           \"househld.csv\",\n",
    "  \"Injury Episode\":      \"injpoiep.csv\",\n",
    "  \"Person\":              \"personsx.csv\",\n",
    "  \"Sample Child\":        \"samchild.csv\",\n",
    "  \"Sample Adult\":        \"samadult.csv\",\n",
    "  \"Sample Adult Cancer\": \"cancerxx.csv\"\n",
    "}"
   ]
  },
  {
   "cell_type": "markdown",
   "metadata": {},
   "source": [
    "After reading through all of the potential variables provided by the [National Health Interview Survey](https://www.cdc.gov/nchs/nhis/nhis_2015_data_release.htm), I chose to look for a potential link between military status and financial status. More specifically, I wanted to compare whether someone served in the United States military with their current income bracket."
   ]
  },
  {
   "cell_type": "code",
   "execution_count": 3,
   "metadata": {
    "collapsed": false
   },
   "outputs": [],
   "source": [
    "df = pd.read_csv(data_path + data_files[\"Person\"])"
   ]
  },
  {
   "cell_type": "markdown",
   "metadata": {},
   "source": [
    "The first step after loading in the data was to collect all of the indices that corresponded to anyone who served in the military and use them to filter the population into two groups. Roughly 1 in 15 people who responded to the survey were in the military at some point."
   ]
  },
  {
   "cell_type": "code",
   "execution_count": 4,
   "metadata": {
    "collapsed": false
   },
   "outputs": [
    {
     "data": {
      "text/plain": [
       "(6863, 96926)"
      ]
     },
     "execution_count": 4,
     "metadata": {},
     "output_type": "execute_result"
    }
   ],
   "source": [
    "military_indices = (\n",
    "    (df.ARMFTM1P == 1) | # US military 2001 - ????\n",
    "    (df.ARMFTM2P == 1) | # US military 1990 - 2001\n",
    "    (df.ARMFTM3P == 1) | # US military 1975 - 1990\n",
    "    (df.ARMFTM4P == 1) | # US military 1964 - 1975\n",
    "    (df.ARMFTM5P == 1) | # US military 1955 - 1964\n",
    "    (df.ARMFTM6P == 1) | # US military 1950 - 1955\n",
    "    (df.ARMFTM7P == 1)   # US military ???? - 1950\n",
    ")\n",
    "was_military = df[ military_indices]\n",
    "not_military = df[~military_indices]\n",
    "len(was_military), len(not_military)"
   ]
  },
  {
   "cell_type": "markdown",
   "metadata": {},
   "source": [
    "Next, I collected the income data for both groups, split into 11 different brackets:\n",
    "* 01: \\$1-\\$4,999\n",
    "* 02: \\$5,000-\\$9,999\n",
    "* 03: \\$10,000-\\$14,999\n",
    "* 04: \\$15,000-\\$19,999\n",
    "* 05: \\$20,000-\\$24,999\n",
    "* 06: \\$25,000-\\$34,999\n",
    "* 07: \\$35,000-\\$44,999\n",
    "* 08: \\$45,000-\\$54,999\n",
    "* 09: \\$55,000-\\$64,999\n",
    "* 10: \\$65,000-\\$74,999\n",
    "* 11: \\$75,000-$\\infty$"
   ]
  },
  {
   "cell_type": "code",
   "execution_count": 5,
   "metadata": {
    "collapsed": false
   },
   "outputs": [],
   "source": [
    "def get_incomes (df):\n",
    "    return df[              # people who\n",
    "        (df.WRKLYR1 == 1) & # worked last year\n",
    "        (df.ERNYR_P < 12)   # and reported their earnings\n",
    "    ].ERNYR_P               # were in these income brackets"
   ]
  },
  {
   "cell_type": "code",
   "execution_count": 6,
   "metadata": {
    "collapsed": false
   },
   "outputs": [],
   "source": [
    "ym_incomes = get_incomes(was_military)\n",
    "nm_incomes = get_incomes(not_military)"
   ]
  },
  {
   "cell_type": "markdown",
   "metadata": {},
   "source": [
    "To get a good idea of what trends may exist in the data, I normalized the values and plotted them, both as a histogram of the actual data and as an estimation of the PDF via KDE."
   ]
  },
  {
   "cell_type": "code",
   "execution_count": 7,
   "metadata": {
    "collapsed": false
   },
   "outputs": [],
   "source": [
    "ym_indices, ym_values = ym_incomes.value_counts().index, ym_incomes.value_counts().values\n",
    "nm_indices, nm_values = nm_incomes.value_counts().index, nm_incomes.value_counts().values\n",
    "# ym_values = ym_values / ym_values.max().astype(float)\n",
    "# nm_values = nm_values / nm_values.max().astype(float)\n",
    "ym_values = ym_values / ym_values.sum().astype(float)\n",
    "nm_values = nm_values / nm_values.sum().astype(float)"
   ]
  },
  {
   "cell_type": "code",
   "execution_count": 8,
   "metadata": {
    "collapsed": false
   },
   "outputs": [
    {
     "data": {
      "text/plain": [
       "<matplotlib.legend.Legend at 0x7fb4bc0ebfd0>"
      ]
     },
     "execution_count": 8,
     "metadata": {},
     "output_type": "execute_result"
    },
    {
     "data": {
      "image/png": "[encoded data removed]",
      "text/plain": [
       "<matplotlib.figure.Figure at 0x7fb4d41c9a50>"
      ]
     },
     "metadata": {},
     "output_type": "display_data"
    }
   ],
   "source": [
    "plt.bar(ym_indices - 0.5, ym_values, label = \"was military\", width = 1, color = colors[0], alpha = 0.5)\n",
    "plt.bar(nm_indices - 0.5, nm_values, label = \"not military\", width = 1, color = colors[1], alpha = 0.5)\n",
    "plt.xlim(0.5, 11.5)\n",
    "plt.xlabel(\"Income Bracket\")\n",
    "plt.ylabel(\"Normalized Size\")\n",
    "plt.title(\"Figure 1: Income Histogram\")\n",
    "plt.legend(loc = \"best\")"
   ]
  },
  {
   "cell_type": "code",
   "execution_count": 9,
   "metadata": {
    "collapsed": false
   },
   "outputs": [
    {
     "data": {
      "text/plain": [
       "<matplotlib.legend.Legend at 0x7fb4951eda90>"
      ]
     },
     "execution_count": 9,
     "metadata": {},
     "output_type": "execute_result"
    },
    {
     "data": {
      "image/png": "[encoded data removed]",
      "text/plain": [
       "<matplotlib.figure.Figure at 0x7fb4bc089290>"
      ]
     },
     "metadata": {},
     "output_type": "display_data"
    }
   ],
   "source": [
    "sns.distplot(ym_incomes, label = \"was military\", color = colors[0],\n",
    "             hist = False, kde_kws = {\"shade\": True, \"bw\": 0.6}, norm_hist = True)\n",
    "sns.distplot(nm_incomes, label = \"not military\", color = colors[1],\n",
    "             hist = False, kde_kws = {\"shade\": True, \"bw\": 0.6}, norm_hist = True)\n",
    "plt.xlim(1, 11)\n",
    "plt.xlabel(\"Income Bracket\")\n",
    "plt.ylabel(\"Normalized Size\")\n",
    "plt.title(\"Figure 2: Income PDF\")\n",
    "plt.legend(loc = \"best\")"
   ]
  },
  {
   "cell_type": "markdown",
   "metadata": {},
   "source": [
    "From our visualizations, we can see that it seems like people who served in the military were underrepresented in low income brackets and overrepresented in high income brackets compared to the rest of the population."
   ]
  },
  {
   "cell_type": "code",
   "execution_count": 10,
   "metadata": {
    "collapsed": false
   },
   "outputs": [],
   "source": [
    "def analyze_brackets (s, n1, n2 = None):\n",
    "    if n2 is None:\n",
    "        low, high = s[s <= n1], s[n1 < s]\n",
    "        total = float(len(s))\n",
    "        print(len(low), len(high))\n",
    "        print(len(low) / total, len(high) / total)\n",
    "    else:\n",
    "        low, mid, high = s[s <= n1], s[n1 < s][s <= n2], s[n2 < s]\n",
    "        total = float(len(s))\n",
    "        print(len(low), len(mid), len(high))\n",
    "        print(len(low) / total, len(mid) / total, len(high) / total)"
   ]
  },
  {
   "cell_type": "code",
   "execution_count": 11,
   "metadata": {
    "collapsed": false
   },
   "outputs": [
    {
     "name": "stdout",
     "output_type": "stream",
     "text": [
      "(1054, 1839)\n",
      "(0.3643276875216039, 0.6356723124783962)\n",
      "(19336, 17501)\n",
      "(0.5249070228303064, 0.4750929771696935)\n",
      "~\n",
      "(529, 900, 1464)\n",
      "(0.18285516764604218, 0.3110957483581058, 0.506049083995852)\n",
      "(10676, 12916, 13245)\n",
      "(0.2898173032548796, 0.3506257295653826, 0.3595569671797378)\n"
     ]
    }
   ],
   "source": [
    "analyze_brackets(ym_incomes, 6)\n",
    "analyze_brackets(nm_incomes, 6)\n",
    "print(\"~\")\n",
    "analyze_brackets(ym_incomes, 4, 7)\n",
    "analyze_brackets(nm_incomes, 4, 7)"
   ]
  },
  {
   "cell_type": "markdown",
   "metadata": {},
   "source": [
    "| military status | \\$ < 35k | 35k <= \\$ |\n",
    "|:-:|---|---|\n",
    "| was military | 36.43% | 63.57% |\n",
    "| not military | 52.49% | 47.51% |"
   ]
  },
  {
   "cell_type": "markdown",
   "metadata": {},
   "source": [
    "| military status | \\$ < 20k | 20k <= \\$ < 45k | 45k <= \\$ |\n",
    "|:-:|---|---|---|\n",
    "| was military | 18.29% | 31.11% | 50.60% |\n",
    "| not military | 28.98% | 35.06% | 35.96% |"
   ]
  },
  {
   "cell_type": "markdown",
   "metadata": {},
   "source": [
    "The range of our data and the visualized differences between the two groups prompt us to split the income data into even broader bracket groupings for further analysis.\n",
    "\n",
    "We can observe a significant difference by splitting at the middle of our income data, cutting the groups into lower and upper brackets. About 36% of military respondents make less than \\$35k a year, with the other 64% making more than that. For the non-military population, those numbers sit at 52% and 48% respectively.\n",
    "\n",
    "The discrepancy is even more visible if we segment the data into lower, middle, and upper brackets. Among those who were military, 18% make less than \\$20k a year, 31% make between \\$20k and \\$45k, and 51% make over \\$45k. The corresponding numbers for respondents not in the military are 29%, 35%, and 36% respectively."
   ]
  },
  {
   "cell_type": "code",
   "execution_count": 12,
   "metadata": {
    "collapsed": false
   },
   "outputs": [],
   "source": [
    "def effect_size (g1, g2):\n",
    "    diff = g1.mean() - g2.mean()\n",
    "    num1, num2 = len(g1), len(g2)\n",
    "    var1, var2 = g1.var(), g2.var()\n",
    "    pooled_var = (num1 * var1 + num2 * var2) / (num1 + num2)\n",
    "    d = diff / np.sqrt(pooled_var)\n",
    "    return d"
   ]
  },
  {
   "cell_type": "code",
   "execution_count": 13,
   "metadata": {
    "collapsed": false
   },
   "outputs": [
    {
     "data": {
      "text/plain": [
       "0.3153318830634142"
      ]
     },
     "execution_count": 13,
     "metadata": {},
     "output_type": "execute_result"
    }
   ],
   "source": [
    "effect_size(ym_incomes, nm_incomes)"
   ]
  },
  {
   "cell_type": "markdown",
   "metadata": {},
   "source": [
    "Further statistical analysis using the Cohen effect size tells us that the difference in means (standardized by dividing by the standard deviation of the data) is about 0.32, which (according to Cohen himself) is somewhere between \"small\" and \"medium\" for an effect size."
   ]
  },
  {
   "cell_type": "code",
   "execution_count": 14,
   "metadata": {
    "collapsed": true
   },
   "outputs": [],
   "source": [
    "# TODO: hypothesis and sampling?"
   ]
  }
 ],
 "metadata": {
  "kernelspec": {
   "display_name": "Python 2",
   "language": "python",
   "name": "python2"
  },
  "language_info": {
   "codemirror_mode": {
    "name": "ipython",
    "version": 2
   },
   "file_extension": ".py",
   "mimetype": "text/x-python",
   "name": "python",
   "nbconvert_exporter": "python",
   "pygments_lexer": "ipython2",
   "version": "2.7.6"
  }
 },
 "nbformat": 4,
 "nbformat_minor": 2
}
